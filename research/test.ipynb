{
 "cells": [
  {
   "cell_type": "code",
   "execution_count": 1,
   "metadata": {},
   "outputs": [],
   "source": [
    "data = [{\n",
    "            \"product_name\": '5/8 Unc',\n",
    "            \"product_number\": '103001899',\n",
    "            \"company_for\": 'omkar ind'\n",
    "        },\n",
    "        {\n",
    "            \"product_name\": 'stud 5/8 × 3/8',\n",
    "            \"product_number\": '835201199',\n",
    "            \"company_for\": 'omkar ind'\n",
    "        },\n",
    "        {\n",
    "            \"product_name\": 'stud 5/8 × 3/8',\n",
    "            \"product_number\": '835201199',\n",
    "            \"company_for\": 'omkar ind'\n",
    "        }]"
   ]
  },
  {
   "cell_type": "code",
   "execution_count": 2,
   "metadata": {},
   "outputs": [
    {
     "name": "stdout",
     "output_type": "stream",
     "text": [
      "5/8 Unc\n",
      "stud 5/8 × 3/8\n"
     ]
    }
   ],
   "source": [
    "for d in data:\n",
    "    print(d['product_name'])"
   ]
  },
  {
   "cell_type": "code",
   "execution_count": 6,
   "metadata": {},
   "outputs": [
    {
     "name": "stdout",
     "output_type": "stream",
     "text": [
      "04_11_2024\n"
     ]
    }
   ],
   "source": [
    "from datetime import datetime\n",
    "\n",
    "date = datetime.now().strftime(\"%d_%m_%Y\")\n",
    "\n",
    "print(date)"
   ]
  },
  {
   "cell_type": "code",
   "execution_count": 10,
   "metadata": {},
   "outputs": [
    {
     "data": {
      "text/plain": [
       "'06:08:40_PM'"
      ]
     },
     "execution_count": 10,
     "metadata": {},
     "output_type": "execute_result"
    }
   ],
   "source": [
    "time = datetime.now().strftime(\"%I:%M:%S_%p\")\n",
    "time"
   ]
  },
  {
   "cell_type": "code",
   "execution_count": 11,
   "metadata": {},
   "outputs": [
    {
     "ename": "ModuleNotFoundError",
     "evalue": "No module named 'source'",
     "output_type": "error",
     "traceback": [
      "\u001b[0;31m---------------------------------------------------------------------------\u001b[0m",
      "\u001b[0;31mModuleNotFoundError\u001b[0m                       Traceback (most recent call last)",
      "Cell \u001b[0;32mIn[11], line 5\u001b[0m\n\u001b[1;32m      1\u001b[0m prod_collection \u001b[38;5;241m=\u001b[39m \u001b[38;5;124m'\u001b[39m\u001b[38;5;124mproducts\u001b[39m\u001b[38;5;124m'\u001b[39m\n\u001b[1;32m      2\u001b[0m DB_NAME \u001b[38;5;241m=\u001b[39m \u001b[38;5;124m'\u001b[39m\u001b[38;5;124mAditya_ind\u001b[39m\u001b[38;5;124m'\u001b[39m\n\u001b[0;32m----> 5\u001b[0m \u001b[38;5;28;01mfrom\u001b[39;00m \u001b[38;5;21;01msource\u001b[39;00m\u001b[38;5;21;01m.\u001b[39;00m\u001b[38;5;21;01mconfiguration\u001b[39;00m\u001b[38;5;21;01m.\u001b[39;00m\u001b[38;5;21;01mmongo_operations\u001b[39;00m \u001b[38;5;28;01mimport\u001b[39;00m MongoDBOperation\n\u001b[1;32m      7\u001b[0m mngo \u001b[38;5;241m=\u001b[39m MongoDBOperation()\n\u001b[1;32m      9\u001b[0m database \u001b[38;5;241m=\u001b[39m mngo\u001b[38;5;241m.\u001b[39mget_database(db_name\u001b[38;5;241m=\u001b[39mDB_NAME)\n",
      "\u001b[0;31mModuleNotFoundError\u001b[0m: No module named 'source'"
     ]
    }
   ],
   "source": [
    "prod_collection = 'products'\n",
    "DB_NAME = 'Aditya_ind'\n",
    "\n",
    "\n",
    "from .configuration.mongo_operations import MongoDBOperation\n",
    "\n",
    "mngo = MongoDBOperation()\n",
    "\n",
    "database = mngo.get_database(db_name=DB_NAME)\n",
    "\n",
    "collection = mngo.get_collection(database=database, collection_name=prod_collection)\n",
    "\n",
    "\n",
    "result = collection.find_one({\"product_name\":\"5/8 Unc\",\n",
    "                                \"product_number\":\"103001899\",\n",
    "                                \"company_for\":\"omkar ind\"})\n",
    "\n",
    "print(result)"
   ]
  },
  {
   "cell_type": "code",
   "execution_count": null,
   "metadata": {},
   "outputs": [],
   "source": []
  }
 ],
 "metadata": {
  "kernelspec": {
   "display_name": "billing_env",
   "language": "python",
   "name": "python3"
  },
  "language_info": {
   "codemirror_mode": {
    "name": "ipython",
    "version": 3
   },
   "file_extension": ".py",
   "mimetype": "text/x-python",
   "name": "python",
   "nbconvert_exporter": "python",
   "pygments_lexer": "ipython3",
   "version": "3.12.5"
  }
 },
 "nbformat": 4,
 "nbformat_minor": 2
}
